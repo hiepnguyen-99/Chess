{
 "cells": [
  {
   "cell_type": "code",
   "execution_count": 79,
   "id": "56559b94",
   "metadata": {},
   "outputs": [
    {
     "data": {
      "text/plain": [
       "<module 'network' from 'd:\\\\User\\\\ProjectGithub\\\\hiepnguyenn-99\\\\Chess\\\\RL\\\\network.py'>"
      ]
     },
     "execution_count": 79,
     "metadata": {},
     "output_type": "execute_result"
    }
   ],
   "source": [
    "import importlib\n",
    "import ChessEnv\n",
    "import ChessEngine\n",
    "import network\n",
    "import torch\n",
    "import os\n",
    "\n",
    "importlib.reload(ChessEnv)\n",
    "importlib.reload(ChessEngine)\n",
    "importlib.reload(network)"
   ]
  },
  {
   "cell_type": "code",
   "execution_count": 80,
   "id": "ea0c493f",
   "metadata": {},
   "outputs": [
    {
     "name": "stdout",
     "output_type": "stream",
     "text": [
      "device cpu\n",
      "env.action_size 4032\n",
      "Đã load model\n"
     ]
    }
   ],
   "source": [
    "# khởi tạo môi trường và mô hình\n",
    "env = ChessEnv.Env()\n",
    "\n",
    "# device = torch.device('cuda' if torch.cuda.is_available() else 'cpu')\n",
    "device = torch.device('cpu')\n",
    "\n",
    "print(f'device {device}')\n",
    "\n",
    "print(f'env.action_size {env.action_size}')\n",
    "q_net = network.DQN(env.action_size).to(device)\n",
    "model_path = 'DQN.pth'\n",
    "if os.path.exists(model_path):\n",
    "    checkpoint = torch.load(model_path, map_location=device)\n",
    "    q_net.load_state_dict(checkpoint)\n",
    "    print(\"Đã load model\")\n",
    "else:\n",
    "    print(\"Không tìm thấy model\")"
   ]
  },
  {
   "cell_type": "code",
   "execution_count": 81,
   "id": "720af1ef",
   "metadata": {},
   "outputs": [],
   "source": [
    "def state_to_tensor(state, whiteToMove): # từ bàn cờ chuyển thành đầu vào cho DQN\n",
    "    mapping = [\"wp\",\"wN\",\"wB\",\"wR\",\"wQ\",\"wK\",\"bp\",\"bN\",\"bB\",\"bR\",\"bQ\",\"bK\"] \n",
    "    planes = torch.zeros((12, 8, 8), dtype=torch.float32)\n",
    "    \n",
    "    for r in range(8):\n",
    "        for c in range(8):\n",
    "            sq = state[r][c]\n",
    "            if sq in mapping:\n",
    "                planes[(mapping.index(sq), r, c)] = 1.0\n",
    "\n",
    "    # side to move\n",
    "    stm = torch.full((1, 8, 8), float(whiteToMove), dtype=torch.float32)\n",
    "    return torch.cat([planes, stm], dim=0) # (13,8,8)\n",
    "\n",
    "def legal_moves_mask(env, validmoves):\n",
    "    legal_mask = torch.zeros(env.action_size, dtype=torch.bool)\n",
    "    for m in validmoves:\n",
    "        mid = m.moveID\n",
    "        if mid in env.moveid_to_index:\n",
    "            legal_mask[env.moveid_to_index[mid]] = True\n",
    "    return legal_mask"
   ]
  },
  {
   "cell_type": "code",
   "execution_count": 86,
   "id": "2cadb5e6",
   "metadata": {},
   "outputs": [
    {
     "name": "stdout",
     "output_type": "stream",
     "text": [
      "torch.Size([13, 8, 8])\n",
      "<class 'torch.Tensor'>\n",
      "legal_mask tensor([False, False, False,  ..., False, False, False])\n",
      "torch.Size([4032])\n",
      "<class 'torch.Tensor'>\n",
      "q_values tensor([[nan, nan, nan,  ..., nan, nan, nan]])\n",
      "best_action 3056\n",
      "q_value max nan\n",
      "6 0 4 0\n",
      "6040\n"
     ]
    }
   ],
   "source": [
    "def BestRLMove(gs):\n",
    "    state = gs.board\n",
    "    whiteToMove = gs.whiteToMove\n",
    "    validmoves = gs.getValidMoves()\n",
    "\n",
    "    # input\n",
    "    state_tensor = state_to_tensor(state, whiteToMove)   \n",
    "    # print(f'state_tensor {state_tensor}')\n",
    "    print(state_tensor.shape)\n",
    "    print(type(state_tensor))\n",
    "    legal_mask = legal_moves_mask(env, validmoves)\n",
    "    print(f'legal_mask {legal_mask}')\n",
    "    print(legal_mask.shape)\n",
    "    print(type(legal_mask))\n",
    "\n",
    "    with torch.no_grad():\n",
    "        q_values = q_net(state_tensor.unsqueeze(0).to(device)) # action_size\n",
    "        print (f'q_values {q_values}')\n",
    "        q_values[~legal_mask.unsqueeze(0)] = -torch.inf\n",
    "        best_action_index = q_values.argmax()\n",
    "        print(f'best_action {best_action_index.item()}')\n",
    "        print(f'q_value max {q_values.squeeze(0)[best_action_index.item()]}')\n",
    "    \n",
    "    best_action_mid = env.index_to_moveid[best_action_index.item()]\n",
    "    s = str(best_action_mid).zfill(4)\n",
    "    sr, sc, er, ec = map(int, s)\n",
    "    print(sr, sc, er, ec)\n",
    "    return ChessEngine.Move((sr, sc), (er, ec), gs.board)\n",
    "\n",
    "move = BestRLMove(env.gs)\n",
    "print(move.moveID)"
   ]
  }
 ],
 "metadata": {
  "kernelspec": {
   "display_name": "chessenv",
   "language": "python",
   "name": "python3"
  },
  "language_info": {
   "codemirror_mode": {
    "name": "ipython",
    "version": 3
   },
   "file_extension": ".py",
   "mimetype": "text/x-python",
   "name": "python",
   "nbconvert_exporter": "python",
   "pygments_lexer": "ipython3",
   "version": "3.10.10"
  }
 },
 "nbformat": 4,
 "nbformat_minor": 5
}
