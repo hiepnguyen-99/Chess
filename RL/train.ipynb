{
 "cells": [
  {
   "cell_type": "code",
   "execution_count": 4,
   "id": "0fca1219",
   "metadata": {},
   "outputs": [
    {
     "data": {
      "text/plain": [
       "<module 'network' from 'd:\\\\User\\\\ProjectGithub\\\\hiepnguyenn-99\\\\Chess\\\\RL\\\\network.py'>"
      ]
     },
     "execution_count": 4,
     "metadata": {},
     "output_type": "execute_result"
    }
   ],
   "source": [
    "import os, sys\n",
    "parent_dir = os.path.abspath(os.path.join(os.getcwd(), '..'))\n",
    "if parent_dir not in sys.path:\n",
    "    sys.path.insert(0, parent_dir)\n",
    "\n",
    "import importlib\n",
    "import ChessEngine\n",
    "import Minimax.SmartMoveFinder as SmartMoveFinder\n",
    "import Minimax.Evaluate as Evaluate\n",
    "from Move import BestRLMove\n",
    "import ChessEnv\n",
    "import replaybuffer\n",
    "import network\n",
    "import copy \n",
    "import random\n",
    "import torch\n",
    "import torch.nn as nn\n",
    "import tqdm\n",
    "from tqdm import trange\n",
    "\n",
    "importlib.reload(ChessEngine)\n",
    "importlib.reload(ChessEnv)\n",
    "importlib.reload(replaybuffer)\n",
    "importlib.reload(network)"
   ]
  },
  {
   "cell_type": "code",
   "execution_count": 5,
   "id": "f4805484",
   "metadata": {},
   "outputs": [
    {
     "name": "stdout",
     "output_type": "stream",
     "text": [
      "cuda\n",
      "Đã load model\n"
     ]
    }
   ],
   "source": [
    "env = ChessEnv.Env()\n",
    "\n",
    "device = torch.device('cuda' if torch.cuda.is_available() else 'cpu')\n",
    "print(device)\n",
    "\n",
    "q_net = network.DQN(env.action_size).to(device)\n",
    "\n",
    "# load mô hình lưu\n",
    "model_path = 'DQN.pth'\n",
    "if os.path.exists(model_path):\n",
    "    checkpoint = torch.load(model_path, map_location=device)\n",
    "    q_net.load_state_dict(checkpoint)\n",
    "    q_net.train()\n",
    "    print(\"Đã load model\")\n",
    "else:\n",
    "    print(\"Không tìm thấy model\")\n",
    "\n",
    "target_net = copy.deepcopy(q_net).to(device)\n",
    "target_net.eval()\n",
    "optimizer = torch.optim.Adam(q_net.parameters(), lr=1e-4)\n",
    "criterion = nn.SmoothL1Loss()  "
   ]
  },
  {
   "cell_type": "code",
   "execution_count": 6,
   "id": "dc4064a6",
   "metadata": {},
   "outputs": [
    {
     "name": "stderr",
     "output_type": "stream",
     "text": [
      "  0%|          | 2/500000 [01:11<5352:40:05, 38.54s/it]"
     ]
    },
    {
     "name": "stdout",
     "output_type": "stream",
     "text": [
      "total sum reward -0.15384615384615385\n"
     ]
    },
    {
     "name": "stderr",
     "output_type": "stream",
     "text": [
      "  0%|          | 18/500000 [02:03<379:43:02,  2.73s/it]"
     ]
    },
    {
     "name": "stdout",
     "output_type": "stream",
     "text": [
      "total sum reward -0.15384615384615385\n"
     ]
    },
    {
     "name": "stderr",
     "output_type": "stream",
     "text": [
      "  4%|▍         | 19436/500000 [1:06:02<27:12:59,  4.90it/s]\n"
     ]
    },
    {
     "ename": "KeyboardInterrupt",
     "evalue": "",
     "output_type": "error",
     "traceback": [
      "\u001b[1;31m---------------------------------------------------------------------------\u001b[0m",
      "\u001b[1;31mKeyboardInterrupt\u001b[0m                         Traceback (most recent call last)",
      "Cell \u001b[1;32mIn[6], line 25\u001b[0m\n\u001b[0;32m     23\u001b[0m \u001b[38;5;28;01melse\u001b[39;00m:\n\u001b[0;32m     24\u001b[0m     SmartMoveFinder\u001b[38;5;241m.\u001b[39mDEPTH \u001b[38;5;241m=\u001b[39m \u001b[38;5;241m3\u001b[39m\n\u001b[1;32m---> 25\u001b[0m AIMove \u001b[38;5;241m=\u001b[39m \u001b[43mSmartMoveFinder\u001b[49m\u001b[38;5;241;43m.\u001b[39;49m\u001b[43mfindBestMinimaxMove\u001b[49m\u001b[43m(\u001b[49m\u001b[43menv\u001b[49m\u001b[38;5;241;43m.\u001b[39;49m\u001b[43mgs\u001b[49m\u001b[43m,\u001b[49m\u001b[43m \u001b[49m\u001b[43menv\u001b[49m\u001b[38;5;241;43m.\u001b[39;49m\u001b[43mgs\u001b[49m\u001b[38;5;241;43m.\u001b[39;49m\u001b[43mgetValidMoves\u001b[49m\u001b[43m(\u001b[49m\u001b[43m)\u001b[49m\u001b[43m)\u001b[49m\n\u001b[0;32m     26\u001b[0m \u001b[38;5;28;01mif\u001b[39;00m AIMove \u001b[38;5;129;01mis\u001b[39;00m \u001b[38;5;28;01mNone\u001b[39;00m:\n\u001b[0;32m     27\u001b[0m     AIMove \u001b[38;5;241m=\u001b[39m SmartMoveFinder\u001b[38;5;241m.\u001b[39mfindRandomMove(env\u001b[38;5;241m.\u001b[39mgs\u001b[38;5;241m.\u001b[39mgetValidMoves())\n",
      "File \u001b[1;32md:\\User\\ProjectGithub\\hiepnguyenn-99\\Chess\\Minimax\\SmartMoveFinder.py:18\u001b[0m, in \u001b[0;36mfindBestMinimaxMove\u001b[1;34m(gs, validMoves)\u001b[0m\n\u001b[0;32m     16\u001b[0m nextMove \u001b[38;5;241m=\u001b[39m \u001b[38;5;28;01mNone\u001b[39;00m\n\u001b[0;32m     17\u001b[0m random\u001b[38;5;241m.\u001b[39mshuffle(validMoves)\n\u001b[1;32m---> 18\u001b[0m \u001b[43mfindMiniMaxScore\u001b[49m\u001b[43m(\u001b[49m\u001b[43mgs\u001b[49m\u001b[43m,\u001b[49m\u001b[43m \u001b[49m\u001b[43mvalidMoves\u001b[49m\u001b[43m,\u001b[49m\u001b[43m \u001b[49m\u001b[43mDEPTH\u001b[49m\u001b[43m,\u001b[49m\u001b[43m \u001b[49m\u001b[38;5;241;43m-\u001b[39;49m\u001b[43mCHECKMATE\u001b[49m\u001b[43m,\u001b[49m\u001b[43m \u001b[49m\u001b[43mCHECKMATE\u001b[49m\u001b[43m,\u001b[49m\u001b[43m \u001b[49m\u001b[38;5;28;43;01mTrue\u001b[39;49;00m\u001b[43m \u001b[49m\u001b[38;5;28;43;01mif\u001b[39;49;00m\u001b[43m \u001b[49m\u001b[43mgs\u001b[49m\u001b[38;5;241;43m.\u001b[39;49m\u001b[43mwhiteToMove\u001b[49m\u001b[43m \u001b[49m\u001b[38;5;28;43;01melse\u001b[39;49;00m\u001b[43m \u001b[49m\u001b[38;5;28;43;01mFalse\u001b[39;49;00m\u001b[43m)\u001b[49m      \n\u001b[0;32m     19\u001b[0m \u001b[38;5;28;01mreturn\u001b[39;00m nextMove\n",
      "File \u001b[1;32md:\\User\\ProjectGithub\\hiepnguyenn-99\\Chess\\Minimax\\SmartMoveFinder.py:30\u001b[0m, in \u001b[0;36mfindMiniMaxScore\u001b[1;34m(gs, validMoves, depth, alpha, beta, turnMutiplayer)\u001b[0m\n\u001b[0;32m     28\u001b[0m gs\u001b[38;5;241m.\u001b[39mmakeMove(move)\n\u001b[0;32m     29\u001b[0m nextValidMoves \u001b[38;5;241m=\u001b[39m gs\u001b[38;5;241m.\u001b[39mgetValidMoves()\n\u001b[1;32m---> 30\u001b[0m score \u001b[38;5;241m=\u001b[39m \u001b[43mfindMiniMaxScore\u001b[49m\u001b[43m(\u001b[49m\u001b[43mgs\u001b[49m\u001b[43m,\u001b[49m\u001b[43m \u001b[49m\u001b[43mnextValidMoves\u001b[49m\u001b[43m,\u001b[49m\u001b[43m \u001b[49m\u001b[43mdepth\u001b[49m\u001b[38;5;241;43m-\u001b[39;49m\u001b[38;5;241;43m1\u001b[39;49m\u001b[43m,\u001b[49m\u001b[43m \u001b[49m\u001b[43malpha\u001b[49m\u001b[43m,\u001b[49m\u001b[43m \u001b[49m\u001b[43mbeta\u001b[49m\u001b[43m,\u001b[49m\u001b[43m \u001b[49m\u001b[38;5;28;43;01mFalse\u001b[39;49;00m\u001b[43m)\u001b[49m\n\u001b[0;32m     31\u001b[0m \u001b[38;5;28;01mif\u001b[39;00m score \u001b[38;5;241m>\u001b[39m maxScore:\n\u001b[0;32m     32\u001b[0m     maxScore \u001b[38;5;241m=\u001b[39m score\n",
      "File \u001b[1;32md:\\User\\ProjectGithub\\hiepnguyenn-99\\Chess\\Minimax\\SmartMoveFinder.py:45\u001b[0m, in \u001b[0;36mfindMiniMaxScore\u001b[1;34m(gs, validMoves, depth, alpha, beta, turnMutiplayer)\u001b[0m\n\u001b[0;32m     43\u001b[0m gs\u001b[38;5;241m.\u001b[39mmakeMove(move)\n\u001b[0;32m     44\u001b[0m nextValidMoves \u001b[38;5;241m=\u001b[39m gs\u001b[38;5;241m.\u001b[39mgetValidMoves()\n\u001b[1;32m---> 45\u001b[0m score \u001b[38;5;241m=\u001b[39m \u001b[43mfindMiniMaxScore\u001b[49m\u001b[43m(\u001b[49m\u001b[43mgs\u001b[49m\u001b[43m,\u001b[49m\u001b[43m \u001b[49m\u001b[43mnextValidMoves\u001b[49m\u001b[43m,\u001b[49m\u001b[43m \u001b[49m\u001b[43mdepth\u001b[49m\u001b[38;5;241;43m-\u001b[39;49m\u001b[38;5;241;43m1\u001b[39;49m\u001b[43m,\u001b[49m\u001b[43m \u001b[49m\u001b[43malpha\u001b[49m\u001b[43m,\u001b[49m\u001b[43m \u001b[49m\u001b[43mbeta\u001b[49m\u001b[43m,\u001b[49m\u001b[43m \u001b[49m\u001b[38;5;28;43;01mTrue\u001b[39;49;00m\u001b[43m)\u001b[49m\n\u001b[0;32m     46\u001b[0m \u001b[38;5;28;01mif\u001b[39;00m score \u001b[38;5;241m<\u001b[39m minScore:\n\u001b[0;32m     47\u001b[0m     minScore \u001b[38;5;241m=\u001b[39m score\n",
      "File \u001b[1;32md:\\User\\ProjectGithub\\hiepnguyenn-99\\Chess\\Minimax\\SmartMoveFinder.py:28\u001b[0m, in \u001b[0;36mfindMiniMaxScore\u001b[1;34m(gs, validMoves, depth, alpha, beta, turnMutiplayer)\u001b[0m\n\u001b[0;32m     26\u001b[0m maxScore \u001b[38;5;241m=\u001b[39m \u001b[38;5;241m-\u001b[39mCHECKMATE\n\u001b[0;32m     27\u001b[0m \u001b[38;5;28;01mfor\u001b[39;00m move \u001b[38;5;129;01min\u001b[39;00m validMoves:\n\u001b[1;32m---> 28\u001b[0m     \u001b[43mgs\u001b[49m\u001b[38;5;241;43m.\u001b[39;49m\u001b[43mmakeMove\u001b[49m\u001b[43m(\u001b[49m\u001b[43mmove\u001b[49m\u001b[43m)\u001b[49m\n\u001b[0;32m     29\u001b[0m     nextValidMoves \u001b[38;5;241m=\u001b[39m gs\u001b[38;5;241m.\u001b[39mgetValidMoves()\n\u001b[0;32m     30\u001b[0m     score \u001b[38;5;241m=\u001b[39m findMiniMaxScore(gs, nextValidMoves, depth\u001b[38;5;241m-\u001b[39m\u001b[38;5;241m1\u001b[39m, alpha, beta, \u001b[38;5;28;01mFalse\u001b[39;00m)\n",
      "File \u001b[1;32md:\\User\\ProjectGithub\\hiepnguyenn-99\\Chess\\ChessEngine.py:97\u001b[0m, in \u001b[0;36mGameState.makeMove\u001b[1;34m(self, move)\u001b[0m\n\u001b[0;32m     95\u001b[0m \u001b[38;5;66;03m# kiểm tra trạng thái bàn cờ\u001b[39;00m\n\u001b[0;32m     96\u001b[0m \u001b[38;5;28mself\u001b[39m\u001b[38;5;241m.\u001b[39minCheck, _, _ \u001b[38;5;241m=\u001b[39m \u001b[38;5;28mself\u001b[39m\u001b[38;5;241m.\u001b[39mcheckForPinsAndChecks()\n\u001b[1;32m---> 97\u001b[0m \u001b[38;5;28;01mif\u001b[39;00m \u001b[38;5;28mlen\u001b[39m(\u001b[38;5;28;43mself\u001b[39;49m\u001b[38;5;241;43m.\u001b[39;49m\u001b[43mgetValidMoves\u001b[49m\u001b[43m(\u001b[49m\u001b[43m)\u001b[49m) \u001b[38;5;241m==\u001b[39m \u001b[38;5;241m0\u001b[39m:\n\u001b[0;32m     98\u001b[0m     \u001b[38;5;28;01mif\u001b[39;00m \u001b[38;5;28mself\u001b[39m\u001b[38;5;241m.\u001b[39minCheck:\n\u001b[0;32m     99\u001b[0m         \u001b[38;5;28mself\u001b[39m\u001b[38;5;241m.\u001b[39mcheckMate \u001b[38;5;241m=\u001b[39m \u001b[38;5;28;01mTrue\u001b[39;00m\n",
      "File \u001b[1;32md:\\User\\ProjectGithub\\hiepnguyenn-99\\Chess\\ChessEngine.py:153\u001b[0m, in \u001b[0;36mGameState.getValidMoves\u001b[1;34m(self)\u001b[0m\n\u001b[0;32m    151\u001b[0m \u001b[38;5;28;01mdef\u001b[39;00m\u001b[38;5;250m \u001b[39m\u001b[38;5;21mgetValidMoves\u001b[39m(\u001b[38;5;28mself\u001b[39m):\n\u001b[0;32m    152\u001b[0m     moves \u001b[38;5;241m=\u001b[39m []\n\u001b[1;32m--> 153\u001b[0m     \u001b[38;5;28mself\u001b[39m\u001b[38;5;241m.\u001b[39minCheck, \u001b[38;5;28mself\u001b[39m\u001b[38;5;241m.\u001b[39mpins, \u001b[38;5;28mself\u001b[39m\u001b[38;5;241m.\u001b[39mchecks \u001b[38;5;241m=\u001b[39m \u001b[38;5;28;43mself\u001b[39;49m\u001b[38;5;241;43m.\u001b[39;49m\u001b[43mcheckForPinsAndChecks\u001b[49m\u001b[43m(\u001b[49m\u001b[43m)\u001b[49m\n\u001b[0;32m    155\u001b[0m     \u001b[38;5;66;03m# Xác định vị trí quân vua của người chơi hiện tại\u001b[39;00m\n\u001b[0;32m    156\u001b[0m     \u001b[38;5;28;01mif\u001b[39;00m \u001b[38;5;28mself\u001b[39m\u001b[38;5;241m.\u001b[39mwhiteToMove:\n",
      "File \u001b[1;32md:\\User\\ProjectGithub\\hiepnguyenn-99\\Chess\\ChessEngine.py:298\u001b[0m, in \u001b[0;36mGameState.checkForPinsAndChecks\u001b[1;34m(self)\u001b[0m\n\u001b[0;32m    296\u001b[0m endRow \u001b[38;5;241m=\u001b[39m startRow \u001b[38;5;241m+\u001b[39m d[\u001b[38;5;241m0\u001b[39m]\u001b[38;5;241m*\u001b[39mi\n\u001b[0;32m    297\u001b[0m endCol \u001b[38;5;241m=\u001b[39m startCol \u001b[38;5;241m+\u001b[39m d[\u001b[38;5;241m1\u001b[39m]\u001b[38;5;241m*\u001b[39mi\n\u001b[1;32m--> 298\u001b[0m \u001b[38;5;28;01mif\u001b[39;00m \u001b[38;5;241m0\u001b[39m \u001b[38;5;241m<\u001b[39m\u001b[38;5;241m=\u001b[39m endRow \u001b[38;5;241m<\u001b[39m \u001b[38;5;241m8\u001b[39m \u001b[38;5;129;01mand\u001b[39;00m \u001b[38;5;241m0\u001b[39m \u001b[38;5;241m<\u001b[39m\u001b[38;5;241m=\u001b[39m endCol \u001b[38;5;241m<\u001b[39m \u001b[38;5;241m8\u001b[39m:\n\u001b[0;32m    299\u001b[0m     endPiece \u001b[38;5;241m=\u001b[39m \u001b[38;5;28mself\u001b[39m\u001b[38;5;241m.\u001b[39mboard[endRow][endCol]\n\u001b[0;32m    300\u001b[0m     \u001b[38;5;28;01mif\u001b[39;00m endPiece \u001b[38;5;129;01mis\u001b[39;00m \u001b[38;5;28;01mNone\u001b[39;00m:\n",
      "\u001b[1;31mKeyboardInterrupt\u001b[0m: "
     ]
    }
   ],
   "source": [
    "env = ChessEnv.Env()\n",
    "capacity = 32000\n",
    "rb = replaybuffer.ReplayBuffer(capacity)\n",
    "batch_size = 64\n",
    "epsilon = 1.0\n",
    "epsilon_final = 0.01\n",
    "epsilon_decay = 0.995\n",
    "gamma = 0.99\n",
    "step = 0\n",
    "target_update_freq = 2000\n",
    "env.gs.whiteToMove = True # train trắng đi trước (minimax)\n",
    "\n",
    "for episode in trange(500000):\n",
    "    done = False\n",
    "    state = env.reset()\n",
    "    while not done:\n",
    "        # nước đi của minimax\n",
    "        white_capture = None # kiểm tra minimax có ăn quân của rl không\n",
    "        if env.gs.whiteToMove:\n",
    "            AIMove = None\n",
    "            if Evaluate.check_mid_game(env.gs):\n",
    "                SmartMoveFinder.DEPTH = 4\n",
    "            else:\n",
    "                SmartMoveFinder.DEPTH = 3\n",
    "            AIMove = SmartMoveFinder.findBestMinimaxMove(env.gs, env.gs.getValidMoves())\n",
    "            if AIMove is None:\n",
    "                AIMove = SmartMoveFinder.findRandomMove(env.gs.getValidMoves())\n",
    "            if AIMove.pieceCaptured != '--':\n",
    "                white_capture = AIMove.pieceCaptured[1]\n",
    "            env.gs.makeMove(AIMove)\n",
    "\n",
    "        state_tensor = env.state_to_tensor()\n",
    "        lenlegalmove = len(env.gs.getValidMoves())\n",
    "        # khám phá\n",
    "        if lenlegalmove != 0:    \n",
    "            if random.random() < epsilon:\n",
    "                move = random.choice(env.gs.getValidMoves())\n",
    "                action = env.moveid_to_index[move.moveID]\n",
    "\n",
    "            # khai thác\n",
    "            else:\n",
    "                q_value = q_net(state_tensor.unsqueeze(0).to(device)) \n",
    "                action = q_value.argmax()\n",
    "            \n",
    "        next_state_tensor, reward, done, before_legal_mask, after_legal_mask = env.step(action, white_capture, lenlegalmove) # đen đã đi, kiểm tra đen bị ăn quân ko\n",
    "        rb.push(state_tensor, action, reward, next_state_tensor, done, before_legal_mask, after_legal_mask)\n",
    "\n",
    "        if rb.__len__() >= batch_size:\n",
    "            batch = rb.sample(batch_size)\n",
    "            # chuyển về tensor\n",
    "            states, actions, reward, next_states, dones, before_legal_masks, after_legal_mask= zip(*batch)\n",
    "            states = torch.stack([s.to(device) for s in states])\n",
    "            actions = torch.tensor(actions, device=device, dtype=torch.int64).unsqueeze(1) # (B, 1)\n",
    "            reward = torch.tensor(reward, device=device, dtype=torch.float32).unsqueeze(1)\n",
    "            next_states = torch.stack([ns.to(device) for ns in next_states])\n",
    "            before_legal_masks = torch.stack([b.to(device) for b in before_legal_masks])\n",
    "            after_legal_mask = torch.stack([a.to(device) for a in after_legal_mask])\n",
    "            dones = torch.tensor(dones, device=device, dtype=torch.float32).unsqueeze(1)\n",
    "\n",
    "            with torch.no_grad():\n",
    "                next_q_values = target_net(next_states) # (B, action_size)\n",
    "                next_q_values[~after_legal_mask] = -torch.inf\n",
    "                next_q_max = next_q_values.max(1)[0].unsqueeze(1) # (B, 1)\n",
    "\n",
    "                # nếu không còn nước đi hợp lệ của next_states thì đặt bằng 0\n",
    "                legal_exists = after_legal_mask.any(dim=1, keepdim=True)\n",
    "                next_q_max = torch.where(legal_exists, next_q_max, torch.zeros_like(next_q_max))\n",
    "\n",
    "                q_target = reward + gamma * (1 - dones) * next_q_max # (B, 1)\n",
    "                \n",
    "\n",
    "            q_values = q_net(states.to(device)) # (B, action_size)\n",
    "            q_values[~before_legal_masks] = -torch.inf\n",
    "            q_value = q_values.gather(dim=1, index=actions) # tính q value với hành động đã chọn (B, 1)\n",
    "\n",
    "            if step % 200 == 0:\n",
    "                with open('train_log.txt', 'a') as f:\n",
    "                    if q_target[0][0] != -10:\n",
    "                        print(f'q_target max {q_target[0][0] * 1e-10}', file=f)\n",
    "                    else:\n",
    "                        print(f'q_target max {q_target[0][0]}', file=f)\n",
    "                    print(f'q_value max {q_value[0][0] * 1e-10}', file=f)\n",
    "            \n",
    "            loss = criterion(q_value, q_target)\n",
    "            optimizer.zero_grad()\n",
    "            loss.backward()\n",
    "            torch.nn.utils.clip_grad_norm_(q_net.parameters(), max_norm=1.0)\n",
    "            optimizer.step()\n",
    "            step += 1\n",
    "\n",
    "            if step % target_update_freq == 0:\n",
    "                target_net.load_state_dict(q_net.state_dict())\n",
    "                torch.save(target_net.state_dict(), 'DQN.pth')\n",
    "                with open('train_log.txt', 'a') as f:\n",
    "                    print(f'step {step}, model saved', file=f)\n",
    "\n",
    "        epsilon = max(epsilon_final, epsilon*epsilon_decay)\n"
   ]
  }
 ],
 "metadata": {
  "kernelspec": {
   "display_name": "chessenv",
   "language": "python",
   "name": "python3"
  },
  "language_info": {
   "codemirror_mode": {
    "name": "ipython",
    "version": 3
   },
   "file_extension": ".py",
   "mimetype": "text/x-python",
   "name": "python",
   "nbconvert_exporter": "python",
   "pygments_lexer": "ipython3",
   "version": "3.10.10"
  }
 },
 "nbformat": 4,
 "nbformat_minor": 5
}
