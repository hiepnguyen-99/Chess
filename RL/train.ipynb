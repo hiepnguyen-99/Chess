{
 "cells": [
  {
   "cell_type": "code",
   "execution_count": 1,
   "id": "0fca1219",
   "metadata": {},
   "outputs": [
    {
     "name": "stdout",
     "output_type": "stream",
     "text": [
      "device cpu\n",
      "env.action_size 4032\n",
      "Đã load model\n"
     ]
    },
    {
     "data": {
      "text/plain": [
       "<module 'network' from 'd:\\\\User\\\\ProjectGithub\\\\hiepnguyenn-99\\\\Chess\\\\RL\\\\network.py'>"
      ]
     },
     "execution_count": 1,
     "metadata": {},
     "output_type": "execute_result"
    }
   ],
   "source": [
    "import os, sys\n",
    "parent_dir = os.path.abspath(os.path.join(os.getcwd(), '..'))\n",
    "if parent_dir not in sys.path:\n",
    "    sys.path.insert(0, parent_dir)\n",
    "\n",
    "import importlib\n",
    "import ChessEngine\n",
    "import Minimax.SmartMoveFinder as SmartMoveFinder\n",
    "import Minimax.Evaluate as Evaluate\n",
    "from Move import BestRLMove\n",
    "import ChessEnv\n",
    "import replaybuffer\n",
    "import network\n",
    "import copy \n",
    "import random\n",
    "import torch\n",
    "import torch.nn as nn\n",
    "import tqdm\n",
    "from tqdm import trange\n",
    "\n",
    "importlib.reload(ChessEngine)\n",
    "importlib.reload(ChessEnv)\n",
    "importlib.reload(replaybuffer)\n",
    "importlib.reload(network)"
   ]
  },
  {
   "cell_type": "code",
   "execution_count": 2,
   "id": "f4805484",
   "metadata": {},
   "outputs": [
    {
     "name": "stdout",
     "output_type": "stream",
     "text": [
      "cuda\n",
      "Đã load model\n"
     ]
    }
   ],
   "source": [
    "env = ChessEnv.Env()\n",
    "\n",
    "device = torch.device('cuda' if torch.cuda.is_available() else 'cpu')\n",
    "print(device)\n",
    "\n",
    "q_net = network.DQN(env.action_size).to(device)\n",
    "\n",
    "# load mô hình lưu\n",
    "model_path = 'DQN.pth'\n",
    "if os.path.exists(model_path):\n",
    "    checkpoint = torch.load(model_path, map_location=device)\n",
    "    q_net.load_state_dict(checkpoint)\n",
    "    q_net.train()\n",
    "    print(\"Đã load model\")\n",
    "else:\n",
    "    print(\"Không tìm thấy model\")\n",
    "\n",
    "target_net = copy.deepcopy(q_net).to(device)\n",
    "target_net.eval()\n",
    "optimizer = torch.optim.Adam(q_net.parameters(), lr=1e-4)\n",
    "criterion = nn.SmoothL1Loss()  "
   ]
  },
  {
   "cell_type": "code",
   "execution_count": null,
   "id": "dc4064a6",
   "metadata": {},
   "outputs": [
    {
     "name": "stderr",
     "output_type": "stream",
     "text": [
      "  0%|          | 0/500000 [00:00<?, ?it/s]"
     ]
    },
    {
     "name": "stdout",
     "output_type": "stream",
     "text": [
      "total sum reward 0.20512820512820515\n"
     ]
    },
    {
     "name": "stderr",
     "output_type": "stream",
     "text": [
      "  0%|          | 13/500000 [01:15<223:30:59,  1.61s/it]"
     ]
    },
    {
     "name": "stdout",
     "output_type": "stream",
     "text": [
      "total sum reward 0.0\n"
     ]
    },
    {
     "name": "stderr",
     "output_type": "stream",
     "text": [
      "  0%|          | 1185/500000 [05:10<13:42:46, 10.10it/s]"
     ]
    }
   ],
   "source": [
    "env = ChessEnv.Env()\n",
    "capacity = 32000\n",
    "rb = replaybuffer.ReplayBuffer(capacity)\n",
    "batch_size = 64\n",
    "epsilon = 1.0\n",
    "epsilon_final = 0.01\n",
    "epsilon_decay = 0.995\n",
    "gamma = 0.99\n",
    "step = 0\n",
    "target_update_freq = 2000\n",
    "env.gs.whiteToMove = True # train trắng đi trước (minimax)\n",
    "\n",
    "for episode in trange(500000):\n",
    "    done = False\n",
    "    state = env.reset()\n",
    "    while not done:\n",
    "        # nước đi của minimax\n",
    "        white_capture = None # kiểm tra minimax có ăn quân của rl không\n",
    "        if env.gs.whiteToMove:\n",
    "            AIMove = None\n",
    "            # trộn giữa minimax và tự chơi\n",
    "            if random.random() <= 0.5:\n",
    "                if Evaluate.check_mid_game(env.gs):\n",
    "                    SmartMoveFinder.DEPTH = 4\n",
    "                else:\n",
    "                    SmartMoveFinder.DEPTH = 3\n",
    "                AIMove = SmartMoveFinder.findBestMinimaxMove(env.gs, env.gs.getValidMoves())\n",
    "                if AIMove is None:\n",
    "                    AIMove = SmartMoveFinder.findRandomMove(env.gs.getValidMoves())\n",
    "            else:\n",
    "                AIMove = BestRLMove(env.gs)\n",
    "\n",
    "            if AIMove.pieceCaptured != '--':\n",
    "                white_capture = AIMove.pieceCaptured[1]\n",
    "            env.gs.makeMove(AIMove)\n",
    "\n",
    "        state_tensor = env.state_to_tensor()\n",
    "        lenlegalmove = len(env.gs.getValidMoves())\n",
    "        # khám phá\n",
    "        if lenlegalmove != 0:    \n",
    "            if random.random() < epsilon:\n",
    "                move = random.choice(env.gs.getValidMoves())\n",
    "                action = env.moveid_to_index[move.moveID]\n",
    "\n",
    "            # khai thác\n",
    "            else:\n",
    "                q_value = q_net(state_tensor.unsqueeze(0).to(device)) \n",
    "                action = q_value.argmax()\n",
    "            \n",
    "        next_state_tensor, reward, done, before_legal_mask, after_legal_mask = env.step(action, white_capture, lenlegalmove) # đen đã đi, kiểm tra đen bị ăn quân ko\n",
    "        rb.push(state_tensor, action, reward, next_state_tensor, done, before_legal_mask, after_legal_mask)\n",
    "\n",
    "        if rb.__len__() >= batch_size:\n",
    "            batch = rb.sample(batch_size)\n",
    "            # chuyển về tensor\n",
    "            states, actions, reward, next_states, dones, before_legal_masks, after_legal_mask= zip(*batch)\n",
    "            states = torch.stack([s.to(device) for s in states])\n",
    "            actions = torch.tensor(actions, device=device, dtype=torch.int64).unsqueeze(1) # (B, 1)\n",
    "            reward = torch.tensor(reward, device=device, dtype=torch.float32).unsqueeze(1)\n",
    "            next_states = torch.stack([ns.to(device) for ns in next_states])\n",
    "            before_legal_masks = torch.stack([b.to(device) for b in before_legal_masks])\n",
    "            after_legal_mask = torch.stack([a.to(device) for a in after_legal_mask])\n",
    "            dones = torch.tensor(dones, device=device, dtype=torch.float32).unsqueeze(1)\n",
    "\n",
    "            with torch.no_grad():\n",
    "                next_q_values = target_net(next_states) # (B, action_size)\n",
    "                next_q_values[~after_legal_mask] = -torch.inf\n",
    "                next_q_max = next_q_values.max(1)[0].unsqueeze(1) # (B, 1)\n",
    "\n",
    "                # nếu không còn nước đi hợp lệ của next_states thì đặt bằng 0\n",
    "                legal_exists = after_legal_mask.any(dim=1, keepdim=True)\n",
    "                next_q_max = torch.where(legal_exists, next_q_max, torch.zeros_like(next_q_max))\n",
    "\n",
    "                q_target = reward + gamma * (1 - dones) * next_q_max # (B, 1)\n",
    "                \n",
    "\n",
    "            q_values = q_net(states.to(device)) # (B, action_size)\n",
    "            q_values[~before_legal_masks] = -torch.inf\n",
    "            q_value = q_values.gather(dim=1, index=actions) # tính q value với hành động đã chọn (B, 1)\n",
    "\n",
    "            if step % 200 == 0:\n",
    "                with open('train_log.txt', 'a') as f:\n",
    "                    if q_target[0][0] != -10:\n",
    "                        print(f'q_target max {q_target[0][0] * 1e-10}', file=f)\n",
    "                    else:\n",
    "                        print(f'q_target max {q_target[0][0]}', file=f)\n",
    "                    print(f'q_value max {q_value[0][0] * 1e-10}', file=f)\n",
    "            \n",
    "            loss = criterion(q_value, q_target)\n",
    "            optimizer.zero_grad()\n",
    "            loss.backward()\n",
    "            torch.nn.utils.clip_grad_norm_(q_net.parameters(), max_norm=1.0)\n",
    "            optimizer.step()\n",
    "            step += 1\n",
    "\n",
    "            if step % target_update_freq == 0:\n",
    "                target_net.load_state_dict(q_net.state_dict())\n",
    "                torch.save(target_net.state_dict(), 'DQN.pth')\n",
    "                with open('train_log.txt', 'a') as f:\n",
    "                    print(f'step {step}, model saved', file=f)\n",
    "\n",
    "        epsilon = max(epsilon_final, epsilon*epsilon_decay)\n"
   ]
  }
 ],
 "metadata": {
  "kernelspec": {
   "display_name": "chessenv",
   "language": "python",
   "name": "python3"
  },
  "language_info": {
   "codemirror_mode": {
    "name": "ipython",
    "version": 3
   },
   "file_extension": ".py",
   "mimetype": "text/x-python",
   "name": "python",
   "nbconvert_exporter": "python",
   "pygments_lexer": "ipython3",
   "version": "3.10.10"
  }
 },
 "nbformat": 4,
 "nbformat_minor": 5
}
