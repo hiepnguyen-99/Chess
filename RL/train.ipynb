{
 "cells": [
  {
   "cell_type": "code",
   "execution_count": 52,
   "id": "0fca1219",
   "metadata": {},
   "outputs": [
    {
     "data": {
      "text/plain": [
       "<module 'network' from 'd:\\\\User\\\\ProjectGithub\\\\hiepnguyenn-99\\\\Chess\\\\RL\\\\network.py'>"
      ]
     },
     "execution_count": 52,
     "metadata": {},
     "output_type": "execute_result"
    }
   ],
   "source": [
    "import os, sys\n",
    "parent_dir = os.path.abspath(os.path.join(os.getcwd(), '..'))\n",
    "if parent_dir not in sys.path:\n",
    "    sys.path.insert(0, parent_dir)\n",
    "\n",
    "import importlib\n",
    "import ChessEngine\n",
    "import ChessEnv\n",
    "import replaybuffer\n",
    "import network\n",
    "import copy \n",
    "import random\n",
    "import torch\n",
    "import torch.nn as nn\n",
    "\n",
    "importlib.reload(ChessEngine)\n",
    "importlib.reload(ChessEnv)\n",
    "importlib.reload(replaybuffer)\n",
    "importlib.reload(network)\n"
   ]
  },
  {
   "cell_type": "code",
   "execution_count": null,
   "id": "f4805484",
   "metadata": {},
   "outputs": [
    {
     "name": "stdout",
     "output_type": "stream",
     "text": [
      "cuda\n",
      "Đã load model\n"
     ]
    }
   ],
   "source": [
    "env = ChessEnv.Env()\n",
    "\n",
    "device = torch.device('cuda' if torch.cuda.is_available() else 'cpu')\n",
    "print(device)\n",
    "\n",
    "q_net = network.DQN(env.action_size).to(device)\n",
    "\n",
    "# load mô hình lưu\n",
    "model_path = 'DQN.pth'\n",
    "if os.path.exists(model_path):\n",
    "    checkpoint = torch.load(model_path, map_location=device)\n",
    "    q_net.load_state_dict(checkpoint)\n",
    "    q_net.train()\n",
    "    print(\"Đã load model\")\n",
    "else:\n",
    "    print(\"Không tìm thấy model\")\n",
    "\n",
    "target_net = copy.deepcopy(q_net).to(device)\n",
    "target_net.eval()\n",
    "optimizer = torch.optim.Adam(q_net.parameters(), lr=1e-4)\n",
    "criterion  = nn.MSELoss(reduction='mean')"
   ]
  },
  {
   "cell_type": "code",
   "execution_count": null,
   "id": "b4547fb6",
   "metadata": {},
   "outputs": [
    {
     "name": "stdout",
     "output_type": "stream",
     "text": [
      "True 7542\n",
      "chessenv step: legal_mask[3877 = True]\n",
      "False 1333\n",
      "chessenv step: legal_mask[719 = True]\n",
      "True 7606\n",
      "chessenv step: legal_mask[3912 = True]\n",
      "state_tensor torch.Size([2, 13, 8, 8])\n",
      "<built-in method type of Tensor object at 0x00000220CBC1BBF0>\n",
      "action_tensor tensor([[3877, 3912]], device='cuda:0')\n",
      "<class 'torch.Tensor'>\n",
      "reward tensor([[0.0000, 0.0769]], device='cuda:0')\n",
      "<class 'torch.Tensor'>\n",
      "next_state_tensor torch.Size([2, 13, 8, 8])\n",
      "<class 'torch.Tensor'>\n",
      "done_tensor tensor([[0., 0.]], device='cuda:0')\n",
      "<class 'torch.Tensor'>\n",
      "legal_mask tensor([[False, False, False,  ..., False, False, False],\n",
      "        [False, False, False,  ..., False, False, False]], device='cuda:0')\n",
      "<class 'torch.Tensor'>\n",
      "legal_masks.shape torch.Size([2, 4032])\n",
      "q_values.shape torch.Size([2, 4032])\n",
      "done\n"
     ]
    },
    {
     "name": "stderr",
     "output_type": "stream",
     "text": [
      "d:\\User\\ProjectGithub\\hiepnguyenn-99\\Chess\\chessenv\\lib\\site-packages\\torch\\nn\\modules\\loss.py:610: UserWarning: Using a target size (torch.Size([2, 2])) that is different to the input size (torch.Size([1, 2])). This will likely lead to incorrect results due to broadcasting. Please ensure they have the same size.\n",
      "  return F.mse_loss(input, target, reduction=self.reduction)\n"
     ]
    }
   ],
   "source": [
    "env = ChessEnv.Env()\n",
    "capacity = 32000\n",
    "rb = replaybuffer.ReplayBuffer(capacity)\n",
    "batch_size = 64\n",
    "epsilon = 1.0\n",
    "epsilon_final = 0.01\n",
    "epsilon_decay = 0.995\n",
    "gamma = 0.9\n",
    "step = 0\n",
    "target_update_freq = 1250\n",
    "done = False\n",
    "\n",
    "for episode in range(1):\n",
    "    state = env.reset()\n",
    "    while not done:\n",
    "        state_tensor = env.state_to_tensor()\n",
    "        # khám phá\n",
    "        if random.random() < epsilon:\n",
    "            move = random.choice(env.gs.getValidMoves())\n",
    "            action = env.moveid_to_index[move.moveID]\n",
    "            print(f'{env.gs.whiteToMove} {move.moveID}')\n",
    "\n",
    "        # khai thác\n",
    "        else:\n",
    "            q_value = q_net(state_tensor.unsqueeze(0).to(device)) \n",
    "            action = q_value.argmax()\n",
    "        \n",
    "        next_state_tensor, reward, done, legal_mask = env.step(action)\n",
    "        rb.push(state_tensor, action, reward, next_state_tensor, done, legal_mask)\n",
    "\n",
    "        if rb.__len__() >= batch_size:\n",
    "            batch = rb.sample(batch_size)\n",
    "            # đã chuyển về tensor\n",
    "            states, actions, reward, next_states, dones,  legal_masks= zip(*batch)\n",
    "            states = torch.stack([s.to(device) for s in states])\n",
    "            actions = torch.tensor(actions, device=device, dtype=torch.int64).unsqueeze(0)\n",
    "            reward = torch.tensor(reward, device=device, dtype=torch.float32).unsqueeze(0)\n",
    "            next_states = torch.stack([ns.to(device) for ns in next_states])\n",
    "            legal_masks = torch.stack([lm.to(device) for lm in legal_masks])\n",
    "            dones = torch.tensor(dones, device=device, dtype=torch.float32).unsqueeze(0)\n",
    "\n",
    "            with torch.no_grad():\n",
    "                next_q_values = target_net(next_states) # (B, action_size)\n",
    "                next_q_values[~legal_masks] = -torch.inf\n",
    "                next_q_max = next_q_values.max(1)[0].unsqueeze(1) # (B, 1)\n",
    "                q_target = reward + gamma * (1 - dones) * next_q_max # (B, 1)\n",
    "\n",
    "            q_values = q_net(states.to(device)) # (B, action_size)\n",
    "            q_values[~legal_masks] = -torch.inf\n",
    "            q_value = q_values.gather(dim=1, index=actions) # tính q value với hành động đã chọn\n",
    "\n",
    "            loss = criterion(q_value, q_target)\n",
    "            optimizer.zero_grad()\n",
    "            loss.backward()\n",
    "            optimizer.step()\n",
    "            step += 1\n",
    "\n",
    "            if step % target_update_freq == 0:\n",
    "                step = 0\n",
    "                target_net.load_state_dict(q_net.state_dict())\n",
    "                torch.save(target_net.state_dict(), 'DQN.pth')\n",
    "\n",
    "        epsilon = max(epsilon_final, epsilon*epsilon_decay)"
   ]
  }
 ],
 "metadata": {
  "kernelspec": {
   "display_name": "chessenv",
   "language": "python",
   "name": "python3"
  },
  "language_info": {
   "codemirror_mode": {
    "name": "ipython",
    "version": 3
   },
   "file_extension": ".py",
   "mimetype": "text/x-python",
   "name": "python",
   "nbconvert_exporter": "python",
   "pygments_lexer": "ipython3",
   "version": "3.10.10"
  }
 },
 "nbformat": 4,
 "nbformat_minor": 5
}
